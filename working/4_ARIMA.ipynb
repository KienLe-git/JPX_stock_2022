{
 "cells": [
  {
   "cell_type": "code",
   "execution_count": 2,
   "metadata": {},
   "outputs": [
    {
     "name": "stderr",
     "output_type": "stream",
     "text": [
      "c:\\Users\\Admin\\.conda\\envs\\python\\lib\\site-packages\\tqdm\\auto.py:22: TqdmWarning: IProgress not found. Please update jupyter and ipywidgets. See https://ipywidgets.readthedocs.io/en/stable/user_install.html\n",
      "  from .autonotebook import tqdm as notebook_tqdm\n"
     ]
    }
   ],
   "source": [
    "import pandas as pd \n",
    "import numpy as np \n",
    "import matplotlib.pyplot as plt\n",
    "from datetime import datetime\n",
    "import optuna\n",
    "from sklearn.metrics import mean_squared_error\n",
    "from statsmodels.tsa.arima.model import ARIMA \n",
    "\n",
    "from data_utils import *"
   ]
  },
  {
   "cell_type": "code",
   "execution_count": 3,
   "metadata": {},
   "outputs": [
    {
     "data": {
      "text/html": [
       "<div>\n",
       "<style scoped>\n",
       "    .dataframe tbody tr th:only-of-type {\n",
       "        vertical-align: middle;\n",
       "    }\n",
       "\n",
       "    .dataframe tbody tr th {\n",
       "        vertical-align: top;\n",
       "    }\n",
       "\n",
       "    .dataframe thead th {\n",
       "        text-align: right;\n",
       "    }\n",
       "</style>\n",
       "<table border=\"1\" class=\"dataframe\">\n",
       "  <thead>\n",
       "    <tr style=\"text-align: right;\">\n",
       "      <th></th>\n",
       "      <th>Date</th>\n",
       "      <th>SecuritiesCode</th>\n",
       "      <th>ExpectedDividend</th>\n",
       "      <th>AdjustmentFactor</th>\n",
       "      <th>SupervisionFlag</th>\n",
       "      <th>Volume</th>\n",
       "      <th>Open</th>\n",
       "      <th>High</th>\n",
       "      <th>Low</th>\n",
       "      <th>Close</th>\n",
       "      <th>Target</th>\n",
       "      <th>CloseT1</th>\n",
       "      <th>CloseT2</th>\n",
       "    </tr>\n",
       "  </thead>\n",
       "  <tbody>\n",
       "    <tr>\n",
       "      <th>0</th>\n",
       "      <td>2021-12-06</td>\n",
       "      <td>1301</td>\n",
       "      <td>-1.0</td>\n",
       "      <td>1.0</td>\n",
       "      <td>False</td>\n",
       "      <td>8900</td>\n",
       "      <td>2982.0</td>\n",
       "      <td>2982.0</td>\n",
       "      <td>2965.0</td>\n",
       "      <td>2971.0</td>\n",
       "      <td>-0.003263</td>\n",
       "      <td>3065.0</td>\n",
       "      <td>3055.0</td>\n",
       "    </tr>\n",
       "    <tr>\n",
       "      <th>1</th>\n",
       "      <td>2021-12-06</td>\n",
       "      <td>1332</td>\n",
       "      <td>-1.0</td>\n",
       "      <td>1.0</td>\n",
       "      <td>False</td>\n",
       "      <td>1360800</td>\n",
       "      <td>592.0</td>\n",
       "      <td>599.0</td>\n",
       "      <td>588.0</td>\n",
       "      <td>589.0</td>\n",
       "      <td>-0.008993</td>\n",
       "      <td>556.0</td>\n",
       "      <td>551.0</td>\n",
       "    </tr>\n",
       "    <tr>\n",
       "      <th>2</th>\n",
       "      <td>2021-12-06</td>\n",
       "      <td>1333</td>\n",
       "      <td>-1.0</td>\n",
       "      <td>1.0</td>\n",
       "      <td>False</td>\n",
       "      <td>125900</td>\n",
       "      <td>2368.0</td>\n",
       "      <td>2388.0</td>\n",
       "      <td>2360.0</td>\n",
       "      <td>2377.0</td>\n",
       "      <td>-0.009963</td>\n",
       "      <td>2409.0</td>\n",
       "      <td>2385.0</td>\n",
       "    </tr>\n",
       "    <tr>\n",
       "      <th>3</th>\n",
       "      <td>2021-12-06</td>\n",
       "      <td>1375</td>\n",
       "      <td>-1.0</td>\n",
       "      <td>1.0</td>\n",
       "      <td>False</td>\n",
       "      <td>81100</td>\n",
       "      <td>1230.0</td>\n",
       "      <td>1239.0</td>\n",
       "      <td>1224.0</td>\n",
       "      <td>1224.0</td>\n",
       "      <td>-0.015032</td>\n",
       "      <td>1264.0</td>\n",
       "      <td>1245.0</td>\n",
       "    </tr>\n",
       "    <tr>\n",
       "      <th>4</th>\n",
       "      <td>2021-12-06</td>\n",
       "      <td>1376</td>\n",
       "      <td>-1.0</td>\n",
       "      <td>1.0</td>\n",
       "      <td>False</td>\n",
       "      <td>6200</td>\n",
       "      <td>1339.0</td>\n",
       "      <td>1372.0</td>\n",
       "      <td>1339.0</td>\n",
       "      <td>1351.0</td>\n",
       "      <td>0.002867</td>\n",
       "      <td>1395.0</td>\n",
       "      <td>1399.0</td>\n",
       "    </tr>\n",
       "  </tbody>\n",
       "</table>\n",
       "</div>"
      ],
      "text/plain": [
       "        Date  SecuritiesCode  ExpectedDividend  AdjustmentFactor  \\\n",
       "0 2021-12-06            1301              -1.0               1.0   \n",
       "1 2021-12-06            1332              -1.0               1.0   \n",
       "2 2021-12-06            1333              -1.0               1.0   \n",
       "3 2021-12-06            1375              -1.0               1.0   \n",
       "4 2021-12-06            1376              -1.0               1.0   \n",
       "\n",
       "   SupervisionFlag   Volume    Open    High     Low   Close    Target  \\\n",
       "0            False     8900  2982.0  2982.0  2965.0  2971.0 -0.003263   \n",
       "1            False  1360800   592.0   599.0   588.0   589.0 -0.008993   \n",
       "2            False   125900  2368.0  2388.0  2360.0  2377.0 -0.009963   \n",
       "3            False    81100  1230.0  1239.0  1224.0  1224.0 -0.015032   \n",
       "4            False     6200  1339.0  1372.0  1339.0  1351.0  0.002867   \n",
       "\n",
       "   CloseT1  CloseT2  \n",
       "0   3065.0   3055.0  \n",
       "1    556.0    551.0  \n",
       "2   2409.0   2385.0  \n",
       "3   1264.0   1245.0  \n",
       "4   1395.0   1399.0  "
      ]
     },
     "execution_count": 3,
     "metadata": {},
     "output_type": "execute_result"
    }
   ],
   "source": [
    "train_df = pd.read_csv('../__input__/1_DataPreprocessing/train_df.csv')\n",
    "valid_df = pd.read_csv('../__input__/1_DataPreprocessing/valid_df.csv')\n",
    "test_df = pd.read_csv('../__input__/1_DataPreprocessing/test_df.csv')\n",
    "train_df['Date'] = pd.to_datetime(train_df['Date'])\n",
    "valid_df['Date'] = pd.to_datetime(valid_df['Date'])\n",
    "test_df['Date'] = pd.to_datetime(test_df['Date'])\n",
    "test_df.head()"
   ]
  },
  {
   "cell_type": "code",
   "execution_count": 4,
   "metadata": {},
   "outputs": [],
   "source": [
    "train_arima = train_df[['SecuritiesCode','Date','Close','Target']].reset_index(drop = True)\n",
    "valid_arima = valid_df[['SecuritiesCode','Date','Close','Target']].reset_index(drop = True)\n",
    "test_arima = test_df[['SecuritiesCode','Date','Close','Target']].reset_index(drop = True)\n",
    "train_arima = train_arima[train_arima['Date'] >= '2019-05-27'].reset_index(drop= True)"
   ]
  },
  {
   "cell_type": "code",
   "execution_count": 5,
   "metadata": {},
   "outputs": [],
   "source": [
    "import warnings\n",
    "warnings.filterwarnings('ignore')"
   ]
  },
  {
   "cell_type": "code",
   "execution_count": 6,
   "metadata": {},
   "outputs": [
    {
     "name": "stdout",
     "output_type": "stream",
     "text": [
      "Train: 437\n",
      "Valid: 117\n",
      "Test: 100\n"
     ]
    }
   ],
   "source": [
    "print('Train:' ,len(train_arima['Date'].unique()))\n",
    "print('Valid:' ,len(valid_arima['Date'].unique()))\n",
    "print('Test:' ,len(test_arima['Date'].unique()))"
   ]
  },
  {
   "cell_type": "code",
   "execution_count": 8,
   "metadata": {},
   "outputs": [],
   "source": [
    "from tqdm import tqdm\n",
    "import time\n",
    "def predict(traindf,testdf,p,t,q):\n",
    "    train_data = traindf.copy()\n",
    "    test_data = testdf.copy()\n",
    "    test_dates = test_data['Date'].unique()\n",
    "    loss = 0\n",
    "    codes = test_data['SecuritiesCode'].unique()\n",
    "    test_pred =  {}\n",
    "    run_time= 0 \n",
    "    for code in tqdm(codes):\n",
    "        X = train_data[(train_data['SecuritiesCode'] == code)]['Target'].values\n",
    "        model = ARIMA(X, order=(p,t,q))\n",
    "        try:\n",
    "            modelfit = model.fit()\n",
    "            time_start =time.time()\n",
    "            prediction = modelfit.forecast(len(test_dates))\n",
    "            time_end = time.time()\n",
    "            run_time+= time_end-time_start\n",
    "        except:\n",
    "            break  \n",
    "        y_test_true = test_data[(test_data['SecuritiesCode'] == code)]['Target'].values\n",
    "        y_test_pred = []\n",
    "        i=0\n",
    "        # print(prediction)\n",
    "        for i,date in enumerate(test_dates):\n",
    "            if len(test_data[(test_data['SecuritiesCode'] == code) & (test_data['Date'] == date)]) > 0 :\n",
    "                y_test_pred.append(prediction[i])\n",
    "        # models.append(model)\n",
    "        loss += mean_squared_error(y_test_pred,y_test_true)  \n",
    "        test_pred[code] = y_test_pred\n",
    "    return loss,test_pred,run_time"
   ]
  },
  {
   "cell_type": "code",
   "execution_count": 7,
   "metadata": {},
   "outputs": [
    {
     "name": "stderr",
     "output_type": "stream",
     "text": [
      "  0%|          | 5/2000 [00:05<35:58,  1.08s/it]\n"
     ]
    }
   ],
   "source": [
    "# loss,test_pred,run_time = predict(pd.concat([train_arima,test_arima]),test_arima,1,0,4)"
   ]
  },
  {
   "cell_type": "code",
   "execution_count": 8,
   "metadata": {},
   "outputs": [],
   "source": [
    "def objective(\n",
    "    trial,\n",
    "    random_state=22,\n",
    "    n_jobs=-1,\n",
    "): \n",
    "    params = {\n",
    "        'p':trial.suggest_int(\"p\", 1, 5),\n",
    "        't':0,\n",
    "        'q':trial.suggest_int(\"q\", 1, 5)\n",
    "    }\n",
    "    return predict(pd.concat([train_arima,valid_arima]),test_arima,**params)[0]"
   ]
  },
  {
   "cell_type": "code",
   "execution_count": 9,
   "metadata": {},
   "outputs": [
    {
     "name": "stderr",
     "output_type": "stream",
     "text": [
      "\u001b[32m[I 2022-07-20 01:38:59,960]\u001b[0m A new study created in memory with name: no-name-ab3c6362-aafb-4af5-9a69-8886f6faf815\u001b[0m\n",
      "100%|██████████| 2000/2000 [16:38<00:00,  2.00it/s]\n",
      "\u001b[32m[I 2022-07-20 01:55:38,843]\u001b[0m Trial 0 finished with value: 0.8974052280388131 and parameters: {'p': 1, 'q': 1}. Best is trial 0 with value: 0.8974052280388131.\u001b[0m\n",
      "  3%|▎         | 55/2000 [01:06<39:15,  1.21s/it]\n",
      "\u001b[32m[I 2022-07-20 01:56:45,504]\u001b[0m Trial 1 finished with value: 0.017692056449561396 and parameters: {'p': 3, 'q': 3}. Best is trial 1 with value: 0.017692056449561396.\u001b[0m\n",
      "  2%|▏         | 47/2000 [01:27<1:00:19,  1.85s/it]\n",
      "\u001b[32m[I 2022-07-20 01:58:12,655]\u001b[0m Trial 2 finished with value: 0.015789861893399336 and parameters: {'p': 5, 'q': 5}. Best is trial 2 with value: 0.015789861893399336.\u001b[0m\n",
      "  0%|          | 9/2000 [00:11<40:47,  1.23s/it]"
     ]
    }
   ],
   "source": [
    "study = optuna.create_study(direction=\"minimize\")\n",
    "study.optimize(objective, n_trials=10)"
   ]
  },
  {
   "cell_type": "code",
   "execution_count": null,
   "metadata": {},
   "outputs": [
    {
     "data": {
      "text/plain": [
       "{'order': 2}"
      ]
     },
     "execution_count": 9,
     "metadata": {},
     "output_type": "execute_result"
    }
   ],
   "source": [
    "study.best_params"
   ]
  },
  {
   "cell_type": "code",
   "execution_count": 9,
   "metadata": {},
   "outputs": [
    {
     "name": "stderr",
     "output_type": "stream",
     "text": [
      "100%|██████████| 2000/2000 [35:12<00:00,  1.06s/it]\n"
     ]
    }
   ],
   "source": [
    "# best_params = study.best_trial.params\n",
    "loss,test_pred,run_time = predict(pd.concat([train_arima,valid_arima]),test_arima,4,0,3)"
   ]
  },
  {
   "cell_type": "code",
   "execution_count": 10,
   "metadata": {},
   "outputs": [],
   "source": [
    "test_pred_df = test_arima.copy()\n",
    "for code in test_arima['SecuritiesCode'].unique():\n",
    "    test_pred_df.loc[test_pred_df['SecuritiesCode'] == code, 'Target'] = test_pred[code]\n",
    "    "
   ]
  },
  {
   "cell_type": "code",
   "execution_count": 11,
   "metadata": {},
   "outputs": [
    {
     "data": {
      "text/plain": [
       "12.51045298576355"
      ]
     },
     "execution_count": 11,
     "metadata": {},
     "output_type": "execute_result"
    }
   ],
   "source": [
    "run_time"
   ]
  },
  {
   "cell_type": "code",
   "execution_count": 12,
   "metadata": {},
   "outputs": [
    {
     "name": "stdout",
     "output_type": "stream",
     "text": [
      "-0.08757440167017977\n"
     ]
    }
   ],
   "source": [
    "y_pred = pd.DataFrame(test_pred_df['Target'],columns=['Target'])\n",
    "yTest_true = test_df[\"Target\"]\n",
    "print(calc_score(test_arima, y_pred, yTest_true, render_info= False))"
   ]
  },
  {
   "cell_type": "code",
   "execution_count": 13,
   "metadata": {},
   "outputs": [
    {
     "data": {
      "text/plain": [
       "0.024106826994299394"
      ]
     },
     "execution_count": 13,
     "metadata": {},
     "output_type": "execute_result"
    }
   ],
   "source": [
    "np.sqrt(mean_squared_error(y_pred, yTest_true))"
   ]
  }
 ],
 "metadata": {
  "kernelspec": {
   "display_name": "Python 3.9.12 ('python')",
   "language": "python",
   "name": "python3"
  },
  "language_info": {
   "codemirror_mode": {
    "name": "ipython",
    "version": 3
   },
   "file_extension": ".py",
   "mimetype": "text/x-python",
   "name": "python",
   "nbconvert_exporter": "python",
   "pygments_lexer": "ipython3",
   "version": "3.9.12"
  },
  "orig_nbformat": 4,
  "vscode": {
   "interpreter": {
    "hash": "8b755264e74d2c54d302155e7ba1426216751b8619e27e7d20d668d5785a6140"
   }
  }
 },
 "nbformat": 4,
 "nbformat_minor": 2
}
